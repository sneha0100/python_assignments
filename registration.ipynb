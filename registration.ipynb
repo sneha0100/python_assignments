{
 "cells": [
  {
   "cell_type": "code",
   "execution_count": null,
   "id": "distinct-newport",
   "metadata": {},
   "outputs": [],
   "source": [
    "import csv\n",
    "def write_info_csv(info_list):\n",
    "    with open('student_info.csv','a+', newline='') as csv_file:\n",
    "        writer = csv.writer(csv_file)\n",
    "        if csv_file.tell() == 0:\n",
    "            writer.writerow([\"Name\",\"Age\",\"Contact No.\",\"E-Mail\"])\n",
    "        writer.writerow(info_list)\n",
    "if __name__ == '__main__':\n",
    "    condition = True\n",
    "    #student_num = 1\n",
    "    while(condition):\n",
    "        student_info = input(\"Enter student info in foll format for student  (Name Age Contact Email id):\")\n",
    "        #  #{}.format(student_num)\n",
    "        \n",
    "        student_info_list = student_info.split(' ')\n",
    "        print(\"Split up formation\" +str(student_info_list))\n",
    "        print(\"Entered info is -\\nName: {}\\nAge: {}\\nContact_No: {}\\nEmail Id {}\".format(student_info_list[0],student_info_list[1],student_info_list[2],student_info_list[3]))\n",
    "        choice_check = input(\"Is the entered into correct(y/n):\")\n",
    "        if choice_check == 'y':\n",
    "            write_info_csv(student_info_list)\n",
    "\n",
    "        \n",
    "    \n",
    "            condition_check = input(\"Enter (y/n) if you want to enter information for anoher student\")\n",
    "            if condition_check == \"y\":\n",
    "                condition = True\n",
    "                #student_num = student_num + 1\n",
    "      \n",
    "            elif condition_check == \"n\":\n",
    "                condition = False\n",
    "        elif choice_check == \"n\":\n",
    "            print(\"\\n Please re enter the values\")"
   ]
  },
  {
   "cell_type": "code",
   "execution_count": null,
   "id": "quarterly-explorer",
   "metadata": {},
   "outputs": [],
   "source": []
  }
 ],
 "metadata": {
  "kernelspec": {
   "display_name": "Python 3",
   "language": "python",
   "name": "python3"
  },
  "language_info": {
   "codemirror_mode": {
    "name": "ipython",
    "version": 3
   },
   "file_extension": ".py",
   "mimetype": "text/x-python",
   "name": "python",
   "nbconvert_exporter": "python",
   "pygments_lexer": "ipython3",
   "version": "3.9.2"
  }
 },
 "nbformat": 4,
 "nbformat_minor": 5
}
