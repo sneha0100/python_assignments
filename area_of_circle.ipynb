{
 "cells": [
  {
   "cell_type": "code",
   "execution_count": 1,
   "id": "directed-cambridge",
   "metadata": {},
   "outputs": [
    {
     "name": "stdout",
     "output_type": "stream",
     "text": [
      "Enter the radius of circle :46\n",
      "The area of circle is :  6644.24\n"
     ]
    }
   ],
   "source": [
    "radius = input(\"Enter the radius of circle :\")\n",
    "radius = float(radius)\n",
    "print(\"The area of circle is : \",3.14*radius*radius)"
   ]
  },
  {
   "cell_type": "code",
   "execution_count": 2,
   "id": "brilliant-picnic",
   "metadata": {
    "scrolled": true
   },
   "outputs": [
    {
     "name": "stdout",
     "output_type": "stream",
     "text": [
      "Enter the radius of Circle : 35\n",
      "The area of circle is :  3846.5\n"
     ]
    }
   ],
   "source": [
    "radius = float(input(\"Enter the radius of Circle : \"))\n",
    "print(\"The area of circle is : \",3.14*radius*radius)"
   ]
  },
  {
   "cell_type": "code",
   "execution_count": 3,
   "id": "invalid-monster",
   "metadata": {},
   "outputs": [
    {
     "name": "stdout",
     "output_type": "stream",
     "text": [
      "67\n",
      "The area of Circle is 14095.460000000001\n"
     ]
    }
   ],
   "source": [
    "print(\"The area of Circle is\" , 3.14*int(input())**2)"
   ]
  },
  {
   "cell_type": "code",
   "execution_count": null,
   "id": "given-register",
   "metadata": {},
   "outputs": [],
   "source": []
  }
 ],
 "metadata": {
  "kernelspec": {
   "display_name": "Python 3",
   "language": "python",
   "name": "python3"
  },
  "language_info": {
   "codemirror_mode": {
    "name": "ipython",
    "version": 3
   },
   "file_extension": ".py",
   "mimetype": "text/x-python",
   "name": "python",
   "nbconvert_exporter": "python",
   "pygments_lexer": "ipython3",
   "version": "3.9.2"
  }
 },
 "nbformat": 4,
 "nbformat_minor": 5
}
